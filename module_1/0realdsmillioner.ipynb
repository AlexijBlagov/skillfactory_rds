{
 "cells": [
  {
   "cell_type": "code",
   "execution_count": 1,
   "metadata": {
    "_cell_guid": "b1076dfc-b9ad-4769-8c92-a6c4dae69d19",
    "_uuid": "8f2839f25d086af736a60e9eeb907d3b93b6e0e5",
    "colab": {},
    "colab_type": "code",
    "id": "U2D2gTdJVp90"
   },
   "outputs": [
    {
     "data": {
      "text/plain": [
       "'Russian_Russia.1251'"
      ]
     },
     "execution_count": 1,
     "metadata": {},
     "output_type": "execute_result"
    }
   ],
   "source": [
    "import numpy as np\n",
    "import pandas as pd\n",
    "#import seaborn as sns\n",
    "#import matplotlib.pyplot as plt\n",
    "#from collections import Counter\n",
    "import datetime\n",
    "import collections\n",
    "import itertools as itt\n",
    "import locale\n",
    "locale.setlocale(locale.LC_ALL, '')"
   ]
  },
  {
   "cell_type": "code",
   "execution_count": 2,
   "metadata": {
    "_cell_guid": "79c7e3d0-c299-4dcb-8224-4455121ee9b0",
    "_uuid": "d629ff2d2480ee46fbb7e2d37f6b5fab8052498a",
    "colab": {},
    "colab_type": "code",
    "id": "oyGfxL3eVp9-"
   },
   "outputs": [
    {
     "data": {
      "text/html": [
       "<div>\n",
       "<style scoped>\n",
       "    .dataframe tbody tr th:only-of-type {\n",
       "        vertical-align: middle;\n",
       "    }\n",
       "\n",
       "    .dataframe tbody tr th {\n",
       "        vertical-align: top;\n",
       "    }\n",
       "\n",
       "    .dataframe thead th {\n",
       "        text-align: right;\n",
       "    }\n",
       "</style>\n",
       "<table border=\"1\" class=\"dataframe\">\n",
       "  <thead>\n",
       "    <tr style=\"text-align: right;\">\n",
       "      <th></th>\n",
       "      <th>imdb_id</th>\n",
       "      <th>budget</th>\n",
       "      <th>revenue</th>\n",
       "      <th>original_title</th>\n",
       "      <th>cast</th>\n",
       "      <th>director</th>\n",
       "      <th>tagline</th>\n",
       "      <th>overview</th>\n",
       "      <th>runtime</th>\n",
       "      <th>genres</th>\n",
       "      <th>production_companies</th>\n",
       "      <th>release_date</th>\n",
       "      <th>vote_average</th>\n",
       "      <th>release_year</th>\n",
       "    </tr>\n",
       "  </thead>\n",
       "  <tbody>\n",
       "    <tr>\n",
       "      <th>1108</th>\n",
       "      <td>tt0295700</td>\n",
       "      <td>12600000</td>\n",
       "      <td>28650575</td>\n",
       "      <td>Wrong Turn</td>\n",
       "      <td>Desmond Harrington|Eliza Dushku|Emmanuelle Chr...</td>\n",
       "      <td>Rob Schmidt</td>\n",
       "      <td>It's the last one you'll ever take.</td>\n",
       "      <td>Chris crashes into a carload of other young pe...</td>\n",
       "      <td>84</td>\n",
       "      <td>Horror|Thriller</td>\n",
       "      <td>Summit Entertainment|Newmarket Capital Group|R...</td>\n",
       "      <td>5/30/2003</td>\n",
       "      <td>5.9</td>\n",
       "      <td>2003</td>\n",
       "    </tr>\n",
       "    <tr>\n",
       "      <th>1434</th>\n",
       "      <td>tt0383574</td>\n",
       "      <td>200000000</td>\n",
       "      <td>1065659812</td>\n",
       "      <td>Pirates of the Caribbean: Dead Man's Chest</td>\n",
       "      <td>Johnny Depp|Orlando Bloom|Keira Knightley|Bill...</td>\n",
       "      <td>Gore Verbinski</td>\n",
       "      <td>Jack is back!</td>\n",
       "      <td>The high-seas adventures of happy-go-lucky tro...</td>\n",
       "      <td>151</td>\n",
       "      <td>Adventure|Fantasy|Action</td>\n",
       "      <td>Walt Disney Pictures|Jerry Bruckheimer Films|S...</td>\n",
       "      <td>6/20/2006</td>\n",
       "      <td>6.8</td>\n",
       "      <td>2006</td>\n",
       "    </tr>\n",
       "    <tr>\n",
       "      <th>898</th>\n",
       "      <td>tt0279113</td>\n",
       "      <td>8000000</td>\n",
       "      <td>16856124</td>\n",
       "      <td>The Good Girl</td>\n",
       "      <td>Jennifer Aniston|Jake Gyllenhaal|Zooey Deschan...</td>\n",
       "      <td>Miguel Arteta</td>\n",
       "      <td>It's her last best chance... is she going to t...</td>\n",
       "      <td>A discount store clerk strikes up an affair wi...</td>\n",
       "      <td>93</td>\n",
       "      <td>Drama|Comedy|Romance</td>\n",
       "      <td>Fox Searchlight Pictures|Hungry Eye Lowland Pi...</td>\n",
       "      <td>1/12/2002</td>\n",
       "      <td>5.8</td>\n",
       "      <td>2002</td>\n",
       "    </tr>\n",
       "    <tr>\n",
       "      <th>384</th>\n",
       "      <td>tt1282140</td>\n",
       "      <td>8000000</td>\n",
       "      <td>74952305</td>\n",
       "      <td>Easy A</td>\n",
       "      <td>Emma Stone|Stanley Tucci|Amanda Bynes|Cam Giga...</td>\n",
       "      <td>Will Gluck</td>\n",
       "      <td>The rumour-filled totally false account of how...</td>\n",
       "      <td>After a little white lie about losing her virg...</td>\n",
       "      <td>92</td>\n",
       "      <td>Comedy</td>\n",
       "      <td>Screen Gems|Olive Bridge Entertainment</td>\n",
       "      <td>9/10/2010</td>\n",
       "      <td>6.6</td>\n",
       "      <td>2010</td>\n",
       "    </tr>\n",
       "    <tr>\n",
       "      <th>1445</th>\n",
       "      <td>tt0477347</td>\n",
       "      <td>110000000</td>\n",
       "      <td>574480841</td>\n",
       "      <td>Night at the Museum</td>\n",
       "      <td>Ben Stiller|Jake Cherry|Carla Gugino|Robin Wil...</td>\n",
       "      <td>Shawn Levy</td>\n",
       "      <td>Where History Comes To Life</td>\n",
       "      <td>Chaos reigns at the natural history museum whe...</td>\n",
       "      <td>108</td>\n",
       "      <td>Action|Adventure|Comedy|Family|Fantasy</td>\n",
       "      <td>Ingenious Film Partners|Twentieth Century Fox ...</td>\n",
       "      <td>10/20/2006</td>\n",
       "      <td>6.2</td>\n",
       "      <td>2006</td>\n",
       "    </tr>\n",
       "  </tbody>\n",
       "</table>\n",
       "</div>"
      ],
      "text/plain": [
       "        imdb_id     budget     revenue  \\\n",
       "1108  tt0295700   12600000    28650575   \n",
       "1434  tt0383574  200000000  1065659812   \n",
       "898   tt0279113    8000000    16856124   \n",
       "384   tt1282140    8000000    74952305   \n",
       "1445  tt0477347  110000000   574480841   \n",
       "\n",
       "                                  original_title  \\\n",
       "1108                                  Wrong Turn   \n",
       "1434  Pirates of the Caribbean: Dead Man's Chest   \n",
       "898                                The Good Girl   \n",
       "384                                       Easy A   \n",
       "1445                         Night at the Museum   \n",
       "\n",
       "                                                   cast        director  \\\n",
       "1108  Desmond Harrington|Eliza Dushku|Emmanuelle Chr...     Rob Schmidt   \n",
       "1434  Johnny Depp|Orlando Bloom|Keira Knightley|Bill...  Gore Verbinski   \n",
       "898   Jennifer Aniston|Jake Gyllenhaal|Zooey Deschan...   Miguel Arteta   \n",
       "384   Emma Stone|Stanley Tucci|Amanda Bynes|Cam Giga...      Will Gluck   \n",
       "1445  Ben Stiller|Jake Cherry|Carla Gugino|Robin Wil...      Shawn Levy   \n",
       "\n",
       "                                                tagline  \\\n",
       "1108                It's the last one you'll ever take.   \n",
       "1434                                      Jack is back!   \n",
       "898   It's her last best chance... is she going to t...   \n",
       "384   The rumour-filled totally false account of how...   \n",
       "1445                        Where History Comes To Life   \n",
       "\n",
       "                                               overview  runtime  \\\n",
       "1108  Chris crashes into a carload of other young pe...       84   \n",
       "1434  The high-seas adventures of happy-go-lucky tro...      151   \n",
       "898   A discount store clerk strikes up an affair wi...       93   \n",
       "384   After a little white lie about losing her virg...       92   \n",
       "1445  Chaos reigns at the natural history museum whe...      108   \n",
       "\n",
       "                                      genres  \\\n",
       "1108                         Horror|Thriller   \n",
       "1434                Adventure|Fantasy|Action   \n",
       "898                     Drama|Comedy|Romance   \n",
       "384                                   Comedy   \n",
       "1445  Action|Adventure|Comedy|Family|Fantasy   \n",
       "\n",
       "                                   production_companies release_date  \\\n",
       "1108  Summit Entertainment|Newmarket Capital Group|R...    5/30/2003   \n",
       "1434  Walt Disney Pictures|Jerry Bruckheimer Films|S...    6/20/2006   \n",
       "898   Fox Searchlight Pictures|Hungry Eye Lowland Pi...    1/12/2002   \n",
       "384              Screen Gems|Olive Bridge Entertainment    9/10/2010   \n",
       "1445  Ingenious Film Partners|Twentieth Century Fox ...   10/20/2006   \n",
       "\n",
       "      vote_average  release_year  \n",
       "1108           5.9          2003  \n",
       "1434           6.8          2006  \n",
       "898            5.8          2002  \n",
       "384            6.6          2010  \n",
       "1445           6.2          2006  "
      ]
     },
     "execution_count": 2,
     "metadata": {},
     "output_type": "execute_result"
    }
   ],
   "source": [
    "data = pd.read_csv('movie_bd_v5.csv')\n",
    "data.sample(5)"
   ]
  },
  {
   "cell_type": "code",
   "execution_count": 3,
   "metadata": {
    "colab": {},
    "colab_type": "code",
    "id": "CoYUnagMVp-C"
   },
   "outputs": [
    {
     "data": {
      "text/html": [
       "<div>\n",
       "<style scoped>\n",
       "    .dataframe tbody tr th:only-of-type {\n",
       "        vertical-align: middle;\n",
       "    }\n",
       "\n",
       "    .dataframe tbody tr th {\n",
       "        vertical-align: top;\n",
       "    }\n",
       "\n",
       "    .dataframe thead th {\n",
       "        text-align: right;\n",
       "    }\n",
       "</style>\n",
       "<table border=\"1\" class=\"dataframe\">\n",
       "  <thead>\n",
       "    <tr style=\"text-align: right;\">\n",
       "      <th></th>\n",
       "      <th>budget</th>\n",
       "      <th>revenue</th>\n",
       "      <th>runtime</th>\n",
       "      <th>vote_average</th>\n",
       "      <th>release_year</th>\n",
       "    </tr>\n",
       "  </thead>\n",
       "  <tbody>\n",
       "    <tr>\n",
       "      <th>count</th>\n",
       "      <td>1.889000e+03</td>\n",
       "      <td>1.889000e+03</td>\n",
       "      <td>1889.000000</td>\n",
       "      <td>1889.000000</td>\n",
       "      <td>1889.000000</td>\n",
       "    </tr>\n",
       "    <tr>\n",
       "      <th>mean</th>\n",
       "      <td>5.431083e+07</td>\n",
       "      <td>1.553653e+08</td>\n",
       "      <td>109.658549</td>\n",
       "      <td>6.140762</td>\n",
       "      <td>2007.860773</td>\n",
       "    </tr>\n",
       "    <tr>\n",
       "      <th>std</th>\n",
       "      <td>4.858721e+07</td>\n",
       "      <td>2.146698e+08</td>\n",
       "      <td>18.017041</td>\n",
       "      <td>0.764763</td>\n",
       "      <td>4.468841</td>\n",
       "    </tr>\n",
       "    <tr>\n",
       "      <th>min</th>\n",
       "      <td>5.000000e+06</td>\n",
       "      <td>2.033165e+06</td>\n",
       "      <td>63.000000</td>\n",
       "      <td>3.300000</td>\n",
       "      <td>2000.000000</td>\n",
       "    </tr>\n",
       "    <tr>\n",
       "      <th>25%</th>\n",
       "      <td>2.000000e+07</td>\n",
       "      <td>3.456058e+07</td>\n",
       "      <td>97.000000</td>\n",
       "      <td>5.600000</td>\n",
       "      <td>2004.000000</td>\n",
       "    </tr>\n",
       "    <tr>\n",
       "      <th>50%</th>\n",
       "      <td>3.800000e+07</td>\n",
       "      <td>8.361541e+07</td>\n",
       "      <td>107.000000</td>\n",
       "      <td>6.100000</td>\n",
       "      <td>2008.000000</td>\n",
       "    </tr>\n",
       "    <tr>\n",
       "      <th>75%</th>\n",
       "      <td>7.200000e+07</td>\n",
       "      <td>1.782626e+08</td>\n",
       "      <td>120.000000</td>\n",
       "      <td>6.600000</td>\n",
       "      <td>2012.000000</td>\n",
       "    </tr>\n",
       "    <tr>\n",
       "      <th>max</th>\n",
       "      <td>3.800000e+08</td>\n",
       "      <td>2.781506e+09</td>\n",
       "      <td>214.000000</td>\n",
       "      <td>8.100000</td>\n",
       "      <td>2015.000000</td>\n",
       "    </tr>\n",
       "  </tbody>\n",
       "</table>\n",
       "</div>"
      ],
      "text/plain": [
       "             budget       revenue      runtime  vote_average  release_year\n",
       "count  1.889000e+03  1.889000e+03  1889.000000   1889.000000   1889.000000\n",
       "mean   5.431083e+07  1.553653e+08   109.658549      6.140762   2007.860773\n",
       "std    4.858721e+07  2.146698e+08    18.017041      0.764763      4.468841\n",
       "min    5.000000e+06  2.033165e+06    63.000000      3.300000   2000.000000\n",
       "25%    2.000000e+07  3.456058e+07    97.000000      5.600000   2004.000000\n",
       "50%    3.800000e+07  8.361541e+07   107.000000      6.100000   2008.000000\n",
       "75%    7.200000e+07  1.782626e+08   120.000000      6.600000   2012.000000\n",
       "max    3.800000e+08  2.781506e+09   214.000000      8.100000   2015.000000"
      ]
     },
     "execution_count": 3,
     "metadata": {},
     "output_type": "execute_result"
    }
   ],
   "source": [
    "data.describe()"
   ]
  },
  {
   "cell_type": "markdown",
   "metadata": {
    "colab_type": "text",
    "id": "DTIt7ezGVp-G"
   },
   "source": [
    "# Предобработка"
   ]
  },
  {
   "cell_type": "code",
   "execution_count": 4,
   "metadata": {
    "colab": {},
    "colab_type": "code",
    "id": "jNb40DwKVp-H",
    "scrolled": true
   },
   "outputs": [
    {
     "name": "stderr",
     "output_type": "stream",
     "text": [
      "<ipython-input-4-38fb12ca1335>:12: SettingWithCopyWarning: \n",
      "A value is trying to be set on a copy of a slice from a DataFrame.\n",
      "Try using .loc[row_indexer,col_indexer] = value instead\n",
      "\n",
      "See the caveats in the documentation: https://pandas.pydata.org/pandas-docs/stable/user_guide/indexing.html#returning-a-view-versus-a-copy\n",
      "  da_pr['profit']=data['revenue']-data['budget']\n"
     ]
    },
    {
     "data": {
      "text/html": [
       "<div>\n",
       "<style scoped>\n",
       "    .dataframe tbody tr th:only-of-type {\n",
       "        vertical-align: middle;\n",
       "    }\n",
       "\n",
       "    .dataframe tbody tr th {\n",
       "        vertical-align: top;\n",
       "    }\n",
       "\n",
       "    .dataframe thead th {\n",
       "        text-align: right;\n",
       "    }\n",
       "</style>\n",
       "<table border=\"1\" class=\"dataframe\">\n",
       "  <thead>\n",
       "    <tr style=\"text-align: right;\">\n",
       "      <th></th>\n",
       "      <th>imdb_id</th>\n",
       "      <th>budget</th>\n",
       "      <th>revenue</th>\n",
       "      <th>original_title</th>\n",
       "      <th>cast</th>\n",
       "      <th>director</th>\n",
       "      <th>tagline</th>\n",
       "      <th>overview</th>\n",
       "      <th>runtime</th>\n",
       "      <th>genres</th>\n",
       "      <th>production_companies</th>\n",
       "      <th>release_date</th>\n",
       "      <th>vote_average</th>\n",
       "      <th>release_year</th>\n",
       "    </tr>\n",
       "  </thead>\n",
       "  <tbody>\n",
       "    <tr>\n",
       "      <th>1535</th>\n",
       "      <td>tt0475276</td>\n",
       "      <td>15000000</td>\n",
       "      <td>76286096</td>\n",
       "      <td>United 93</td>\n",
       "      <td>J.J. Johnson|Polly Adams|Trish Gates|Nancy McD...</td>\n",
       "      <td>Paul Greengrass</td>\n",
       "      <td>September 11, 2001. Four planes were hijacked....</td>\n",
       "      <td>A real time account of the events on United Fl...</td>\n",
       "      <td>111</td>\n",
       "      <td>Drama|History|Crime|Thriller|Action</td>\n",
       "      <td>Universal Pictures|StudioCanal|Sidney Kimmel E...</td>\n",
       "      <td>2006-04-28</td>\n",
       "      <td>6.6</td>\n",
       "      <td>2006</td>\n",
       "    </tr>\n",
       "    <tr>\n",
       "      <th>272</th>\n",
       "      <td>tt0362478</td>\n",
       "      <td>30000000</td>\n",
       "      <td>33333531</td>\n",
       "      <td>The Box</td>\n",
       "      <td>Cameron Diaz|James Marsden|Frank Langella|Mich...</td>\n",
       "      <td>Richard Kelly</td>\n",
       "      <td>All you have to do is push the button.</td>\n",
       "      <td>Norma and Arthur Lewis, a suburban couple with...</td>\n",
       "      <td>115</td>\n",
       "      <td>Thriller|Science Fiction</td>\n",
       "      <td>Media Rights Capital|Lin Pictures|Warner Bros....</td>\n",
       "      <td>2009-09-17</td>\n",
       "      <td>5.3</td>\n",
       "      <td>2009</td>\n",
       "    </tr>\n",
       "    <tr>\n",
       "      <th>1695</th>\n",
       "      <td>tt0396555</td>\n",
       "      <td>150000000</td>\n",
       "      <td>169332978</td>\n",
       "      <td>Meet the Robinsons</td>\n",
       "      <td>Tom Selleck|Laurie Metcalf|Angela Bassett|Nico...</td>\n",
       "      <td>Stephen J. Anderson</td>\n",
       "      <td>Think your family's weird?</td>\n",
       "      <td>In this animated adventure, brilliant preteen ...</td>\n",
       "      <td>95</td>\n",
       "      <td>Animation|Comedy|Family</td>\n",
       "      <td>Walt Disney Pictures|Walt Disney Animation Stu...</td>\n",
       "      <td>2007-03-23</td>\n",
       "      <td>6.7</td>\n",
       "      <td>2007</td>\n",
       "    </tr>\n",
       "    <tr>\n",
       "      <th>29</th>\n",
       "      <td>tt4046784</td>\n",
       "      <td>61000000</td>\n",
       "      <td>311256926</td>\n",
       "      <td>Maze Runner: The Scorch Trials</td>\n",
       "      <td>Dylan O'Brien|Kaya Scodelario|Thomas Brodie-Sa...</td>\n",
       "      <td>Wes Ball</td>\n",
       "      <td>The Maze Was Just the Beginning.</td>\n",
       "      <td>Thomas and his fellow Gladers face their great...</td>\n",
       "      <td>132</td>\n",
       "      <td>Action|Science Fiction|Thriller</td>\n",
       "      <td>Gotham Group|Temple Hill Entertainment|TSG Ent...</td>\n",
       "      <td>2015-09-09</td>\n",
       "      <td>6.4</td>\n",
       "      <td>2015</td>\n",
       "    </tr>\n",
       "    <tr>\n",
       "      <th>1580</th>\n",
       "      <td>tt0319262</td>\n",
       "      <td>125000000</td>\n",
       "      <td>544272402</td>\n",
       "      <td>The Day After Tomorrow</td>\n",
       "      <td>Dennis Quaid|Jake Gyllenhaal|Emmy Rossum|Dash ...</td>\n",
       "      <td>Roland Emmerich</td>\n",
       "      <td>Where will you be?</td>\n",
       "      <td>After years of unabated global warming, the gr...</td>\n",
       "      <td>124</td>\n",
       "      <td>Action|Adventure|Science Fiction|Thriller</td>\n",
       "      <td>Lions Gate Films|Twentieth Century Fox Film Co...</td>\n",
       "      <td>2004-05-26</td>\n",
       "      <td>6.1</td>\n",
       "      <td>2004</td>\n",
       "    </tr>\n",
       "  </tbody>\n",
       "</table>\n",
       "</div>"
      ],
      "text/plain": [
       "        imdb_id     budget    revenue                  original_title  \\\n",
       "1535  tt0475276   15000000   76286096                       United 93   \n",
       "272   tt0362478   30000000   33333531                         The Box   \n",
       "1695  tt0396555  150000000  169332978              Meet the Robinsons   \n",
       "29    tt4046784   61000000  311256926  Maze Runner: The Scorch Trials   \n",
       "1580  tt0319262  125000000  544272402          The Day After Tomorrow   \n",
       "\n",
       "                                                   cast             director  \\\n",
       "1535  J.J. Johnson|Polly Adams|Trish Gates|Nancy McD...      Paul Greengrass   \n",
       "272   Cameron Diaz|James Marsden|Frank Langella|Mich...        Richard Kelly   \n",
       "1695  Tom Selleck|Laurie Metcalf|Angela Bassett|Nico...  Stephen J. Anderson   \n",
       "29    Dylan O'Brien|Kaya Scodelario|Thomas Brodie-Sa...             Wes Ball   \n",
       "1580  Dennis Quaid|Jake Gyllenhaal|Emmy Rossum|Dash ...      Roland Emmerich   \n",
       "\n",
       "                                                tagline  \\\n",
       "1535  September 11, 2001. Four planes were hijacked....   \n",
       "272              All you have to do is push the button.   \n",
       "1695                         Think your family's weird?   \n",
       "29                     The Maze Was Just the Beginning.   \n",
       "1580                                 Where will you be?   \n",
       "\n",
       "                                               overview  runtime  \\\n",
       "1535  A real time account of the events on United Fl...      111   \n",
       "272   Norma and Arthur Lewis, a suburban couple with...      115   \n",
       "1695  In this animated adventure, brilliant preteen ...       95   \n",
       "29    Thomas and his fellow Gladers face their great...      132   \n",
       "1580  After years of unabated global warming, the gr...      124   \n",
       "\n",
       "                                         genres  \\\n",
       "1535        Drama|History|Crime|Thriller|Action   \n",
       "272                    Thriller|Science Fiction   \n",
       "1695                    Animation|Comedy|Family   \n",
       "29              Action|Science Fiction|Thriller   \n",
       "1580  Action|Adventure|Science Fiction|Thriller   \n",
       "\n",
       "                                   production_companies release_date  \\\n",
       "1535  Universal Pictures|StudioCanal|Sidney Kimmel E...   2006-04-28   \n",
       "272   Media Rights Capital|Lin Pictures|Warner Bros....   2009-09-17   \n",
       "1695  Walt Disney Pictures|Walt Disney Animation Stu...   2007-03-23   \n",
       "29    Gotham Group|Temple Hill Entertainment|TSG Ent...   2015-09-09   \n",
       "1580  Lions Gate Films|Twentieth Century Fox Film Co...   2004-05-26   \n",
       "\n",
       "      vote_average  release_year  \n",
       "1535           6.6          2006  \n",
       "272            5.3          2009  \n",
       "1695           6.7          2007  \n",
       "29             6.4          2015  \n",
       "1580           6.1          2004  "
      ]
     },
     "execution_count": 4,
     "metadata": {},
     "output_type": "execute_result"
    }
   ],
   "source": [
    "answers = {} # создадим словарь для ответов\n",
    "\n",
    "# тут другие ваши предобработки колонок например:\n",
    "def List_set_split(List,separator='|'):\n",
    "    result=[]\n",
    "    for i in List:\n",
    "        result.extend(i.split(separator))\n",
    "    return list(set(result))\n",
    "\n",
    "data.release_date=data.release_date.apply(lambda x: datetime.datetime.strptime(x,'%m/%d/%Y'))\n",
    "da_pr=data[['original_title','imdb_id','release_year','revenue','budget']]\n",
    "da_pr['profit']=data['revenue']-data['budget']\n",
    "data.sample(5)\n",
    "#the time given in the dataset is in string format.\n",
    "#So we need to change this in datetime format\n",
    "# ..."
   ]
  },
  {
   "cell_type": "markdown",
   "metadata": {
    "colab_type": "text",
    "id": "YxZaH-nPVp-L"
   },
   "source": [
    "# 1. У какого фильма из списка самый большой бюджет?"
   ]
  },
  {
   "cell_type": "markdown",
   "metadata": {
    "colab_type": "text",
    "id": "Nd-G5gX6Vp-M"
   },
   "source": [
    "Использовать варианты ответов в коде решения запрещено.    \n",
    "Вы думаете и в жизни у вас будут варианты ответов?)"
   ]
  },
  {
   "cell_type": "code",
   "execution_count": 5,
   "metadata": {
    "colab": {},
    "colab_type": "code",
    "id": "uVnXAY5RVp-O"
   },
   "outputs": [
    {
     "data": {
      "text/plain": [
       "{'1': 'Pirates of the Caribbean: On Stranger Tides (tt1298650)'}"
      ]
     },
     "execution_count": 5,
     "metadata": {},
     "output_type": "execute_result"
    }
   ],
   "source": [
    "# в словарь вставляем номер вопроса и ваш ответ на него\n",
    "# Пример: \n",
    "#answers['1'] = '2. Spider-Man 3 (tt0413300)'\n",
    "# запишите свой вариант ответа\n",
    "answers['1'] = 'Pirates of the Caribbean: On Stranger Tides (tt1298650)'\n",
    "# если ответили верно, можете добавить комментарий со значком \"+\"\n",
    "answers"
   ]
  },
  {
   "cell_type": "code",
   "execution_count": 6,
   "metadata": {
    "colab": {},
    "colab_type": "code",
    "id": "dZwb3m28Vp-S"
   },
   "outputs": [
    {
     "data": {
      "text/html": [
       "<div>\n",
       "<style scoped>\n",
       "    .dataframe tbody tr th:only-of-type {\n",
       "        vertical-align: middle;\n",
       "    }\n",
       "\n",
       "    .dataframe tbody tr th {\n",
       "        vertical-align: top;\n",
       "    }\n",
       "\n",
       "    .dataframe thead th {\n",
       "        text-align: right;\n",
       "    }\n",
       "</style>\n",
       "<table border=\"1\" class=\"dataframe\">\n",
       "  <thead>\n",
       "    <tr style=\"text-align: right;\">\n",
       "      <th></th>\n",
       "      <th>budget</th>\n",
       "      <th>original_title</th>\n",
       "      <th>imdb_id</th>\n",
       "    </tr>\n",
       "  </thead>\n",
       "  <tbody>\n",
       "    <tr>\n",
       "      <th>723</th>\n",
       "      <td>380000000</td>\n",
       "      <td>Pirates of the Caribbean: On Stranger Tides</td>\n",
       "      <td>tt1298650</td>\n",
       "    </tr>\n",
       "    <tr>\n",
       "      <th>1669</th>\n",
       "      <td>300000000</td>\n",
       "      <td>Pirates of the Caribbean: At World's End</td>\n",
       "      <td>tt0449088</td>\n",
       "    </tr>\n",
       "    <tr>\n",
       "      <th>14</th>\n",
       "      <td>280000000</td>\n",
       "      <td>Avengers: Age of Ultron</td>\n",
       "      <td>tt2395427</td>\n",
       "    </tr>\n",
       "    <tr>\n",
       "      <th>1014</th>\n",
       "      <td>260000000</td>\n",
       "      <td>John Carter</td>\n",
       "      <td>tt0401729</td>\n",
       "    </tr>\n",
       "    <tr>\n",
       "      <th>380</th>\n",
       "      <td>260000000</td>\n",
       "      <td>Tangled</td>\n",
       "      <td>tt0398286</td>\n",
       "    </tr>\n",
       "    <tr>\n",
       "      <th>1676</th>\n",
       "      <td>258000000</td>\n",
       "      <td>Spider-Man 3</td>\n",
       "      <td>tt0413300</td>\n",
       "    </tr>\n",
       "  </tbody>\n",
       "</table>\n",
       "</div>"
      ],
      "text/plain": [
       "         budget                               original_title    imdb_id\n",
       "723   380000000  Pirates of the Caribbean: On Stranger Tides  tt1298650\n",
       "1669  300000000     Pirates of the Caribbean: At World's End  tt0449088\n",
       "14    280000000                      Avengers: Age of Ultron  tt2395427\n",
       "1014  260000000                                  John Carter  tt0401729\n",
       "380   260000000                                      Tangled  tt0398286\n",
       "1676  258000000                                 Spider-Man 3  tt0413300"
      ]
     },
     "metadata": {},
     "output_type": "display_data"
    },
    {
     "data": {
      "text/plain": [
       "723    Pirates of the Caribbean: On Stranger Tides\n",
       "Name: original_title, dtype: object"
      ]
     },
     "metadata": {},
     "output_type": "display_data"
    },
    {
     "data": {
      "text/plain": [
       "723    tt1298650\n",
       "Name: imdb_id, dtype: object"
      ]
     },
     "metadata": {},
     "output_type": "display_data"
    }
   ],
   "source": [
    "# тут пишем ваш код для решения данного вопроса:\n",
    "data_gr=data[['budget','original_title','imdb_id']].sort_values(['budget'],ascending=False).head(6)\n",
    "o_t=data_gr[data_gr['budget']==data_gr['budget'].max()]['original_title']\n",
    "i_id=data_gr[data_gr['budget']==data_gr['budget'].max()]['imdb_id']\n",
    "display(data_gr,o_t,i_id)"
   ]
  },
  {
   "cell_type": "markdown",
   "metadata": {
    "colab_type": "text",
    "id": "K7L3nbRXVp-X"
   },
   "source": [
    "ВАРИАНТ 2"
   ]
  },
  {
   "cell_type": "code",
   "execution_count": 7,
   "metadata": {
    "colab": {},
    "colab_type": "code",
    "id": "OGaoQI7rVp-X"
   },
   "outputs": [],
   "source": [
    "# можно добавлять разные варианты решения"
   ]
  },
  {
   "cell_type": "markdown",
   "metadata": {
    "colab_type": "text",
    "id": "FNRbbI3vVp-c"
   },
   "source": [
    "# 2. Какой из фильмов самый длительный (в минутах)?"
   ]
  },
  {
   "cell_type": "code",
   "execution_count": 8,
   "metadata": {
    "colab": {},
    "colab_type": "code",
    "id": "vHAoEXNTVp-d"
   },
   "outputs": [],
   "source": [
    "# думаю логику работы с этим словарем вы уже поняли, \n",
    "# по этому не буду больше его дублировать\n",
    "answers['2']='Gods and Generals (tt0279111)'"
   ]
  },
  {
   "cell_type": "code",
   "execution_count": 9,
   "metadata": {
    "colab": {},
    "colab_type": "code",
    "id": "ot-VX2XrVp-g"
   },
   "outputs": [
    {
     "data": {
      "text/html": [
       "<div>\n",
       "<style scoped>\n",
       "    .dataframe tbody tr th:only-of-type {\n",
       "        vertical-align: middle;\n",
       "    }\n",
       "\n",
       "    .dataframe tbody tr th {\n",
       "        vertical-align: top;\n",
       "    }\n",
       "\n",
       "    .dataframe thead th {\n",
       "        text-align: right;\n",
       "    }\n",
       "</style>\n",
       "<table border=\"1\" class=\"dataframe\">\n",
       "  <thead>\n",
       "    <tr style=\"text-align: right;\">\n",
       "      <th></th>\n",
       "      <th>runtime</th>\n",
       "      <th>original_title</th>\n",
       "      <th>imdb_id</th>\n",
       "    </tr>\n",
       "  </thead>\n",
       "  <tbody>\n",
       "    <tr>\n",
       "      <th>1157</th>\n",
       "      <td>214</td>\n",
       "      <td>Gods and Generals</td>\n",
       "      <td>tt0279111</td>\n",
       "    </tr>\n",
       "    <tr>\n",
       "      <th>1081</th>\n",
       "      <td>201</td>\n",
       "      <td>The Lord of the Rings: The Return of the King</td>\n",
       "      <td>tt0167260</td>\n",
       "    </tr>\n",
       "    <tr>\n",
       "      <th>1736</th>\n",
       "      <td>191</td>\n",
       "      <td>Grindhouse</td>\n",
       "      <td>tt0462322</td>\n",
       "    </tr>\n",
       "    <tr>\n",
       "      <th>1336</th>\n",
       "      <td>187</td>\n",
       "      <td>King Kong</td>\n",
       "      <td>tt0360717</td>\n",
       "    </tr>\n",
       "    <tr>\n",
       "      <th>504</th>\n",
       "      <td>183</td>\n",
       "      <td>Pearl Harbor</td>\n",
       "      <td>tt0213149</td>\n",
       "    </tr>\n",
       "    <tr>\n",
       "      <th>1183</th>\n",
       "      <td>180</td>\n",
       "      <td>The Wolf of Wall Street</td>\n",
       "      <td>tt0993846</td>\n",
       "    </tr>\n",
       "  </tbody>\n",
       "</table>\n",
       "</div>"
      ],
      "text/plain": [
       "      runtime                                 original_title    imdb_id\n",
       "1157      214                              Gods and Generals  tt0279111\n",
       "1081      201  The Lord of the Rings: The Return of the King  tt0167260\n",
       "1736      191                                     Grindhouse  tt0462322\n",
       "1336      187                                      King Kong  tt0360717\n",
       "504       183                                   Pearl Harbor  tt0213149\n",
       "1183      180                        The Wolf of Wall Street  tt0993846"
      ]
     },
     "metadata": {},
     "output_type": "display_data"
    },
    {
     "data": {
      "text/plain": [
       "1157    Gods and Generals\n",
       "Name: original_title, dtype: object"
      ]
     },
     "metadata": {},
     "output_type": "display_data"
    },
    {
     "data": {
      "text/plain": [
       "1157    tt0279111\n",
       "Name: imdb_id, dtype: object"
      ]
     },
     "metadata": {},
     "output_type": "display_data"
    }
   ],
   "source": [
    "data_gr2=data[['runtime','original_title','imdb_id']].sort_values(['runtime'],ascending=False).head(6)\n",
    "o_t=data_gr2[data_gr2['runtime']==data_gr2['runtime'].max()]['original_title']\n",
    "i_id=data_gr2[data_gr2['runtime']==data_gr2['runtime'].max()]['imdb_id']\n",
    "display(data_gr2,o_t,i_id)"
   ]
  },
  {
   "cell_type": "markdown",
   "metadata": {
    "colab_type": "text",
    "id": "bapLlpW8Vp-k"
   },
   "source": [
    "# 3. Какой из фильмов самый короткий (в минутах)?\n",
    "\n",
    "\n",
    "\n"
   ]
  },
  {
   "cell_type": "code",
   "execution_count": 10,
   "metadata": {
    "colab": {},
    "colab_type": "code",
    "id": "YBxaSHuAVp-l"
   },
   "outputs": [],
   "source": [
    "answers['3']='Winnie the Pooh (tt1449283)'"
   ]
  },
  {
   "cell_type": "code",
   "execution_count": 11,
   "metadata": {},
   "outputs": [
    {
     "data": {
      "text/html": [
       "<div>\n",
       "<style scoped>\n",
       "    .dataframe tbody tr th:only-of-type {\n",
       "        vertical-align: middle;\n",
       "    }\n",
       "\n",
       "    .dataframe tbody tr th {\n",
       "        vertical-align: top;\n",
       "    }\n",
       "\n",
       "    .dataframe thead th {\n",
       "        text-align: right;\n",
       "    }\n",
       "</style>\n",
       "<table border=\"1\" class=\"dataframe\">\n",
       "  <thead>\n",
       "    <tr style=\"text-align: right;\">\n",
       "      <th></th>\n",
       "      <th>runtime</th>\n",
       "      <th>original_title</th>\n",
       "      <th>imdb_id</th>\n",
       "    </tr>\n",
       "  </thead>\n",
       "  <tbody>\n",
       "    <tr>\n",
       "      <th>768</th>\n",
       "      <td>63</td>\n",
       "      <td>Winnie the Pooh</td>\n",
       "      <td>tt1449283</td>\n",
       "    </tr>\n",
       "    <tr>\n",
       "      <th>930</th>\n",
       "      <td>72</td>\n",
       "      <td>Return to Never Land</td>\n",
       "      <td>tt0280030</td>\n",
       "    </tr>\n",
       "    <tr>\n",
       "      <th>1097</th>\n",
       "      <td>72</td>\n",
       "      <td>The Jungle Book 2</td>\n",
       "      <td>tt0283426</td>\n",
       "    </tr>\n",
       "    <tr>\n",
       "      <th>1408</th>\n",
       "      <td>76</td>\n",
       "      <td>Valiant</td>\n",
       "      <td>tt0361089</td>\n",
       "    </tr>\n",
       "    <tr>\n",
       "      <th>1626</th>\n",
       "      <td>76</td>\n",
       "      <td>Home on the Range</td>\n",
       "      <td>tt0299172</td>\n",
       "    </tr>\n",
       "    <tr>\n",
       "      <th>1348</th>\n",
       "      <td>77</td>\n",
       "      <td>Corpse Bride</td>\n",
       "      <td>tt0121164</td>\n",
       "    </tr>\n",
       "  </tbody>\n",
       "</table>\n",
       "</div>"
      ],
      "text/plain": [
       "      runtime        original_title    imdb_id\n",
       "768        63       Winnie the Pooh  tt1449283\n",
       "930        72  Return to Never Land  tt0280030\n",
       "1097       72     The Jungle Book 2  tt0283426\n",
       "1408       76               Valiant  tt0361089\n",
       "1626       76     Home on the Range  tt0299172\n",
       "1348       77          Corpse Bride  tt0121164"
      ]
     },
     "metadata": {},
     "output_type": "display_data"
    },
    {
     "data": {
      "text/plain": [
       "768    Winnie the Pooh\n",
       "Name: original_title, dtype: object"
      ]
     },
     "metadata": {},
     "output_type": "display_data"
    },
    {
     "data": {
      "text/plain": [
       "768    tt1449283\n",
       "Name: imdb_id, dtype: object"
      ]
     },
     "metadata": {},
     "output_type": "display_data"
    }
   ],
   "source": [
    "data_gr3=data[['runtime','original_title','imdb_id']].sort_values(['runtime'],ascending=True).head(6)\n",
    "o_t=data_gr3[data_gr3['runtime']==data_gr3['runtime'].min()]['original_title']\n",
    "i_id=data_gr3[data_gr3['runtime']==data_gr3['runtime'].min()]['imdb_id']\n",
    "display(data_gr3,o_t,i_id)"
   ]
  },
  {
   "cell_type": "markdown",
   "metadata": {
    "colab_type": "text",
    "id": "TfQbxbfNVp-p"
   },
   "source": [
    "# 4. Какова средняя длительность фильмов?\n"
   ]
  },
  {
   "cell_type": "code",
   "execution_count": 12,
   "metadata": {
    "colab": {},
    "colab_type": "code",
    "id": "5K6dKZYVVp-q"
   },
   "outputs": [],
   "source": [
    "answers['4']=110"
   ]
  },
  {
   "cell_type": "code",
   "execution_count": 13,
   "metadata": {},
   "outputs": [
    {
     "data": {
      "text/plain": [
       "109.6585494970884"
      ]
     },
     "execution_count": 13,
     "metadata": {},
     "output_type": "execute_result"
    }
   ],
   "source": [
    "data.runtime.mean()"
   ]
  },
  {
   "cell_type": "markdown",
   "metadata": {
    "colab_type": "text",
    "id": "r5TvbnT_Vp-u"
   },
   "source": [
    "# 5. Каково медианное значение длительности фильмов? "
   ]
  },
  {
   "cell_type": "code",
   "execution_count": 14,
   "metadata": {
    "colab": {},
    "colab_type": "code",
    "id": "iBROplKnVp-v"
   },
   "outputs": [],
   "source": [
    "answers['5']=107"
   ]
  },
  {
   "cell_type": "code",
   "execution_count": 15,
   "metadata": {},
   "outputs": [
    {
     "data": {
      "text/plain": [
       "107.0"
      ]
     },
     "execution_count": 15,
     "metadata": {},
     "output_type": "execute_result"
    }
   ],
   "source": [
    "data.runtime.median()"
   ]
  },
  {
   "cell_type": "markdown",
   "metadata": {
    "colab_type": "text",
    "id": "39P-deDSVp-y"
   },
   "source": [
    "# 6. Какой самый прибыльный фильм?\n",
    "#### Внимание! Здесь и далее под «прибылью» или «убытками» понимается разность между сборами и бюджетом фильма. (прибыль = сборы - бюджет) в нашем датасете это будет (profit = revenue - budget) "
   ]
  },
  {
   "cell_type": "code",
   "execution_count": 16,
   "metadata": {
    "colab": {},
    "colab_type": "code",
    "id": "UYZh4T9WVp-y"
   },
   "outputs": [],
   "source": [
    "answers['6']='Avatar (tt0499549)'\n",
    "# лучше код получения столбца profit вынести в Предобработку что в начале"
   ]
  },
  {
   "cell_type": "code",
   "execution_count": 17,
   "metadata": {},
   "outputs": [
    {
     "data": {
      "text/html": [
       "<div>\n",
       "<style scoped>\n",
       "    .dataframe tbody tr th:only-of-type {\n",
       "        vertical-align: middle;\n",
       "    }\n",
       "\n",
       "    .dataframe tbody tr th {\n",
       "        vertical-align: top;\n",
       "    }\n",
       "\n",
       "    .dataframe thead th {\n",
       "        text-align: right;\n",
       "    }\n",
       "</style>\n",
       "<table border=\"1\" class=\"dataframe\">\n",
       "  <thead>\n",
       "    <tr style=\"text-align: right;\">\n",
       "      <th></th>\n",
       "      <th>original_title</th>\n",
       "      <th>imdb_id</th>\n",
       "      <th>release_year</th>\n",
       "      <th>revenue</th>\n",
       "      <th>budget</th>\n",
       "      <th>profit</th>\n",
       "    </tr>\n",
       "  </thead>\n",
       "  <tbody>\n",
       "    <tr>\n",
       "      <th>239</th>\n",
       "      <td>Avatar</td>\n",
       "      <td>tt0499549</td>\n",
       "      <td>2009</td>\n",
       "      <td>2781505847</td>\n",
       "      <td>237000000</td>\n",
       "      <td>2544505847</td>\n",
       "    </tr>\n",
       "  </tbody>\n",
       "</table>\n",
       "</div>"
      ],
      "text/plain": [
       "    original_title    imdb_id  release_year     revenue     budget      profit\n",
       "239         Avatar  tt0499549          2009  2781505847  237000000  2544505847"
      ]
     },
     "execution_count": 17,
     "metadata": {},
     "output_type": "execute_result"
    }
   ],
   "source": [
    "da_pr[da_pr['profit']==da_pr['profit'].max()]"
   ]
  },
  {
   "cell_type": "markdown",
   "metadata": {
    "colab_type": "text",
    "id": "M99JmIX4Vp-2"
   },
   "source": [
    "# 7. Какой фильм самый убыточный? "
   ]
  },
  {
   "cell_type": "code",
   "execution_count": 18,
   "metadata": {
    "colab": {},
    "colab_type": "code",
    "id": "w-D2m4XPVp-3"
   },
   "outputs": [
    {
     "data": {
      "text/plain": [
       "{'1': 'Pirates of the Caribbean: On Stranger Tides (tt1298650)',\n",
       " '2': 'Gods and Generals (tt0279111)',\n",
       " '3': 'Winnie the Pooh (tt1449283)',\n",
       " '4': 110,\n",
       " '5': 107,\n",
       " '6': 'Avatar (tt0499549)',\n",
       " '7': 'The Lone Ranger (tt1210819)'}"
      ]
     },
     "execution_count": 18,
     "metadata": {},
     "output_type": "execute_result"
    }
   ],
   "source": [
    "answers['7']='The Lone Ranger (tt1210819)'\n",
    "answers"
   ]
  },
  {
   "cell_type": "code",
   "execution_count": 19,
   "metadata": {},
   "outputs": [
    {
     "data": {
      "text/html": [
       "<div>\n",
       "<style scoped>\n",
       "    .dataframe tbody tr th:only-of-type {\n",
       "        vertical-align: middle;\n",
       "    }\n",
       "\n",
       "    .dataframe tbody tr th {\n",
       "        vertical-align: top;\n",
       "    }\n",
       "\n",
       "    .dataframe thead th {\n",
       "        text-align: right;\n",
       "    }\n",
       "</style>\n",
       "<table border=\"1\" class=\"dataframe\">\n",
       "  <thead>\n",
       "    <tr style=\"text-align: right;\">\n",
       "      <th></th>\n",
       "      <th>original_title</th>\n",
       "      <th>imdb_id</th>\n",
       "      <th>release_year</th>\n",
       "      <th>revenue</th>\n",
       "      <th>budget</th>\n",
       "      <th>profit</th>\n",
       "    </tr>\n",
       "  </thead>\n",
       "  <tbody>\n",
       "    <tr>\n",
       "      <th>1245</th>\n",
       "      <td>The Lone Ranger</td>\n",
       "      <td>tt1210819</td>\n",
       "      <td>2013</td>\n",
       "      <td>89289910</td>\n",
       "      <td>255000000</td>\n",
       "      <td>-165710090</td>\n",
       "    </tr>\n",
       "  </tbody>\n",
       "</table>\n",
       "</div>"
      ],
      "text/plain": [
       "       original_title    imdb_id  release_year   revenue     budget     profit\n",
       "1245  The Lone Ranger  tt1210819          2013  89289910  255000000 -165710090"
      ]
     },
     "execution_count": 19,
     "metadata": {},
     "output_type": "execute_result"
    }
   ],
   "source": [
    "da_pr[da_pr['profit']==da_pr['profit'].min()]"
   ]
  },
  {
   "cell_type": "markdown",
   "metadata": {
    "colab_type": "text",
    "id": "wEOM5ERVVp-6"
   },
   "source": [
    "# 8. У скольких фильмов из датасета объем сборов оказался выше бюджета?"
   ]
  },
  {
   "cell_type": "code",
   "execution_count": 20,
   "metadata": {
    "colab": {},
    "colab_type": "code",
    "id": "y00_7HD6Vp-7"
   },
   "outputs": [
    {
     "data": {
      "text/plain": [
       "{'1': 'Pirates of the Caribbean: On Stranger Tides (tt1298650)',\n",
       " '2': 'Gods and Generals (tt0279111)',\n",
       " '3': 'Winnie the Pooh (tt1449283)',\n",
       " '4': 110,\n",
       " '5': 107,\n",
       " '6': 'Avatar (tt0499549)',\n",
       " '7': 'The Lone Ranger (tt1210819)',\n",
       " '8': 1478}"
      ]
     },
     "execution_count": 20,
     "metadata": {},
     "output_type": "execute_result"
    }
   ],
   "source": [
    "answers['8']=da_pr[da_pr['revenue']>da_pr['budget']].imdb_id.count()\n",
    "answers"
   ]
  },
  {
   "cell_type": "markdown",
   "metadata": {
    "colab_type": "text",
    "id": "xhpspA9KVp_A"
   },
   "source": [
    "# 9. Какой фильм оказался самым кассовым в 2008 году?"
   ]
  },
  {
   "cell_type": "code",
   "execution_count": 21,
   "metadata": {
    "colab": {},
    "colab_type": "code",
    "id": "MoUyQr9RVp_B"
   },
   "outputs": [
    {
     "data": {
      "text/plain": [
       "{'1': 'Pirates of the Caribbean: On Stranger Tides (tt1298650)',\n",
       " '2': 'Gods and Generals (tt0279111)',\n",
       " '3': 'Winnie the Pooh (tt1449283)',\n",
       " '4': 110,\n",
       " '5': 107,\n",
       " '6': 'Avatar (tt0499549)',\n",
       " '7': 'The Lone Ranger (tt1210819)',\n",
       " '8': 1478,\n",
       " '9': 'The Dark Knight (tt0468569)'}"
      ]
     },
     "execution_count": 21,
     "metadata": {},
     "output_type": "execute_result"
    }
   ],
   "source": [
    "df=data[(data['release_year']==2008)][['original_title','imdb_id','revenue']]\n",
    "a=df[df['revenue']==df['revenue'].max()]['original_title'].to_string(index=False)\n",
    "b=df[df['revenue']==df['revenue'].max()]['imdb_id'].to_string(index=False)\n",
    "answers['9']=a.strip()+' ('+b.strip()+')'\n",
    "answers"
   ]
  },
  {
   "cell_type": "markdown",
   "metadata": {
    "colab_type": "text",
    "id": "Zi4hDKidVp_F"
   },
   "source": [
    "# 10. Самый убыточный фильм за период с 2012 по 2014 г. (включительно)?\n"
   ]
  },
  {
   "cell_type": "code",
   "execution_count": 22,
   "metadata": {
    "colab": {},
    "colab_type": "code",
    "id": "XqyRmufJVp_F"
   },
   "outputs": [
    {
     "data": {
      "text/plain": [
       "{'1': 'Pirates of the Caribbean: On Stranger Tides (tt1298650)',\n",
       " '2': 'Gods and Generals (tt0279111)',\n",
       " '3': 'Winnie the Pooh (tt1449283)',\n",
       " '4': 110,\n",
       " '5': 107,\n",
       " '6': 'Avatar (tt0499549)',\n",
       " '7': 'The Lone Ranger (tt1210819)',\n",
       " '8': 1478,\n",
       " '9': 'The Dark Knight (tt0468569)',\n",
       " '10': 'The Lone Ranger (tt1210819)'}"
      ]
     },
     "execution_count": 22,
     "metadata": {},
     "output_type": "execute_result"
    }
   ],
   "source": [
    "df=da_pr[(da_pr['release_year']<=2014)&(da_pr['release_year']>=2012)]\n",
    "a=df[df['profit']==df['profit'].min()]['original_title'].to_string(index=False)\n",
    "b=df[df['profit']==df['profit'].min()]['imdb_id'].to_string(index=False)\n",
    "answers['10']=a.strip()+' ('+b.strip()+')'\n",
    "answers"
   ]
  },
  {
   "cell_type": "markdown",
   "metadata": {
    "colab_type": "text",
    "id": "EA7Sa9dkVp_I"
   },
   "source": [
    "# 11. Какого жанра фильмов больше всего?"
   ]
  },
  {
   "cell_type": "code",
   "execution_count": 23,
   "metadata": {
    "colab": {},
    "colab_type": "code",
    "id": "zsJAwJ8QVp_J"
   },
   "outputs": [
    {
     "name": "stdout",
     "output_type": "stream",
     "text": [
      "Counter({'Drama': 782, 'Comedy': 683, 'Thriller': 596, 'Action': 582, 'Adventure': 415, 'Crime': 315, 'Romance': 308, 'Family': 260, 'Science Fiction': 248, 'Fantasy': 222, 'Horror': 176, 'Mystery': 168, 'Animation': 139, 'Music': 64, 'History': 62, 'War': 58, 'Western': 19, 'Documentary': 8, 'Foreign': 2})\n"
     ]
    }
   ],
   "source": [
    "# эту задачу тоже можно решать разными подходами, попробуй реализовать разные варианты\n",
    "# если будешь добавлять функцию - выноси ее в предобработку что в начале\n",
    "answers['11']='Drama'\n",
    "Genres_list=[]\n",
    "for i in range(len(data['genres'])):\n",
    "    Genres_list.extend(data['genres'][i].split('|'))\n",
    "\n",
    "c=collections.Counter()\n",
    "\n",
    "for genr in Genres_list:\n",
    "    c[genr]+=1\n",
    "print(c)"
   ]
  },
  {
   "cell_type": "markdown",
   "metadata": {
    "colab_type": "text",
    "id": "Ax6g2C8SVp_M"
   },
   "source": [
    "ВАРИАНТ 2"
   ]
  },
  {
   "cell_type": "code",
   "execution_count": null,
   "metadata": {
    "colab": {},
    "colab_type": "code",
    "id": "otO3SbrSVp_N"
   },
   "outputs": [],
   "source": []
  },
  {
   "cell_type": "markdown",
   "metadata": {
    "colab_type": "text",
    "id": "T9_bPWpkVp_Q"
   },
   "source": [
    "# 12. Фильмы какого жанра чаще всего становятся прибыльными? "
   ]
  },
  {
   "cell_type": "code",
   "execution_count": 24,
   "metadata": {
    "colab": {},
    "colab_type": "code",
    "id": "Tmt8MaK1Vp_R"
   },
   "outputs": [
    {
     "name": "stdout",
     "output_type": "stream",
     "text": [
      "Counter({'Drama': 560, 'Comedy': 551, 'Thriller': 446, 'Action': 444, 'Adventure': 337, 'Romance': 242, 'Crime': 231, 'Family': 226, 'Science Fiction': 195, 'Fantasy': 188, 'Horror': 150, 'Animation': 120, 'Mystery': 119, 'Music': 47, 'History': 46, 'War': 41, 'Western': 12, 'Documentary': 7})\n"
     ]
    }
   ],
   "source": [
    "answers['12']='Drama'\n",
    "dt=data[data['revenue']>data['budget']]\n",
    "\n",
    "Genres_list.clear()\n",
    "for i in dt['genres']:\n",
    "    Genres_list.extend(i.split('|'))\n",
    "\n",
    "c=collections.Counter()\n",
    "\n",
    "for genr in Genres_list:\n",
    "    c[genr]+=1\n",
    "\n",
    "print(c)"
   ]
  },
  {
   "cell_type": "markdown",
   "metadata": {
    "colab_type": "text",
    "id": "0F23bgsDVp_U"
   },
   "source": [
    "# 13. У какого режиссера самые большие суммарные кассовые сборы?"
   ]
  },
  {
   "cell_type": "code",
   "execution_count": 25,
   "metadata": {
    "colab": {},
    "colab_type": "code",
    "id": "K6Z3J8ygVp_X"
   },
   "outputs": [
    {
     "data": {
      "text/plain": [
       "{'1': 'Pirates of the Caribbean: On Stranger Tides (tt1298650)',\n",
       " '2': 'Gods and Generals (tt0279111)',\n",
       " '3': 'Winnie the Pooh (tt1449283)',\n",
       " '4': 110,\n",
       " '5': 107,\n",
       " '6': 'Avatar (tt0499549)',\n",
       " '7': 'The Lone Ranger (tt1210819)',\n",
       " '8': 1478,\n",
       " '9': 'The Dark Knight (tt0468569)',\n",
       " '10': 'The Lone Ranger (tt1210819)',\n",
       " '11': 'Drama',\n",
       " '12': 'Drama',\n",
       " '13': 'Peter Jackson'}"
      ]
     },
     "execution_count": 25,
     "metadata": {},
     "output_type": "execute_result"
    }
   ],
   "source": [
    "Director_list=[]\n",
    "\n",
    "for i in data['director']:\n",
    "    Director_list.extend(i.split('|'))\n",
    "    \n",
    "Dirs=list(set(Director_list))\n",
    "rev_sum_list=[]\n",
    "\n",
    "for director in Dirs:\n",
    "    rev_sum_list.append(data[data['director'].str.contains(director)]['revenue'].sum())\n",
    "\n",
    "\n",
    "Dir_rev=pd.DataFrame({'Director':Dirs,'Total_revenue':rev_sum_list})\n",
    "answers['13']=Dir_rev['Director'][Dir_rev['Total_revenue']==Dir_rev['Total_revenue'].max()].to_string(index=False).strip()\n",
    "answers"
   ]
  },
  {
   "cell_type": "markdown",
   "metadata": {
    "colab_type": "text",
    "id": "PsYC9FgRVp_a"
   },
   "source": [
    "# 14. Какой режисер снял больше всего фильмов в стиле Action?"
   ]
  },
  {
   "cell_type": "code",
   "execution_count": 26,
   "metadata": {
    "colab": {},
    "colab_type": "code",
    "id": "wd2M-wHeVp_b"
   },
   "outputs": [
    {
     "data": {
      "text/plain": [
       "{'1': 'Pirates of the Caribbean: On Stranger Tides (tt1298650)',\n",
       " '2': 'Gods and Generals (tt0279111)',\n",
       " '3': 'Winnie the Pooh (tt1449283)',\n",
       " '4': 110,\n",
       " '5': 107,\n",
       " '6': 'Avatar (tt0499549)',\n",
       " '7': 'The Lone Ranger (tt1210819)',\n",
       " '8': 1478,\n",
       " '9': 'The Dark Knight (tt0468569)',\n",
       " '10': 'The Lone Ranger (tt1210819)',\n",
       " '11': 'Drama',\n",
       " '12': 'Drama',\n",
       " '13': 'Peter Jackson',\n",
       " '14': 'Robert Rodriguez'}"
      ]
     },
     "execution_count": 26,
     "metadata": {},
     "output_type": "execute_result"
    }
   ],
   "source": [
    "data_action=data[data['genres'].str.contains('Action')]\n",
    "dir_list_action=[]\n",
    "\n",
    "for i in data_action['director']:\n",
    "    dir_list_action.extend(i.split('|'))\n",
    "\n",
    "Dirs_action=list(set(dir_list_action))\n",
    "dir_action_score=[]\n",
    "\n",
    "for director in Dirs_action:\n",
    "    dir_action_score.append(len(data_action[data_action['director'].str.contains(director)]))\n",
    "    \n",
    "Dir_act_score=pd.DataFrame({'Director':Dirs_action,'The number of movies in the action genre':dir_action_score})\n",
    "#Dir_act_score.sort_values(by='The number of movies in the action genre',ascending=False)\n",
    "answers['14']=Dir_act_score['Director'][Dir_act_score['The number of movies in the action genre']==Dir_act_score['The number of movies in the action genre'].max()].to_string(index=False).strip()\n",
    "answers"
   ]
  },
  {
   "cell_type": "markdown",
   "metadata": {
    "colab_type": "text",
    "id": "PQ0KciD7Vp_f"
   },
   "source": [
    "# 15. Фильмы с каким актером принесли самые высокие кассовые сборы в 2012 году? "
   ]
  },
  {
   "cell_type": "code",
   "execution_count": 27,
   "metadata": {
    "colab": {},
    "colab_type": "code",
    "id": "aga62oeKVp_g"
   },
   "outputs": [
    {
     "data": {
      "text/plain": [
       "{'1': 'Pirates of the Caribbean: On Stranger Tides (tt1298650)',\n",
       " '2': 'Gods and Generals (tt0279111)',\n",
       " '3': 'Winnie the Pooh (tt1449283)',\n",
       " '4': 110,\n",
       " '5': 107,\n",
       " '6': 'Avatar (tt0499549)',\n",
       " '7': 'The Lone Ranger (tt1210819)',\n",
       " '8': 1478,\n",
       " '9': 'The Dark Knight (tt0468569)',\n",
       " '10': 'The Lone Ranger (tt1210819)',\n",
       " '11': 'Drama',\n",
       " '12': 'Drama',\n",
       " '13': 'Peter Jackson',\n",
       " '14': 'Robert Rodriguez',\n",
       " '15': 'Chris Hemsworth'}"
      ]
     },
     "execution_count": 27,
     "metadata": {},
     "output_type": "execute_result"
    }
   ],
   "source": [
    "data_r_y=data[data['release_year']==2012]\n",
    "actorlist_ry=[]\n",
    "\n",
    "for i in data_r_y['cast']:\n",
    "    actorlist_ry.extend(i.split('|'))\n",
    "    \n",
    "actors_r_y=list(set(actorlist_ry))\n",
    "reven_ry=[]\n",
    "\n",
    "for actor in actors_r_y:\n",
    "    reven_ry.append(data_r_y['revenue'][data_r_y['cast'].str.contains(actor)].sum())\n",
    "    \n",
    "ActorReven=pd.DataFrame({'Actor':actors_r_y,'Total revenue in 2012 y':reven_ry})\n",
    "#ActorReven.sort_values(by='Total revenue in 2012 y',ascending=False)\n",
    "answers['15']=ActorReven['Actor'][ActorReven['Total revenue in 2012 y']==ActorReven['Total revenue in 2012 y'].max()].to_string(index=False).strip()\n",
    "answers"
   ]
  },
  {
   "cell_type": "markdown",
   "metadata": {
    "colab_type": "text",
    "id": "mWHyyL7QVp_j"
   },
   "source": [
    "# 16. Какой актер снялся в большем количестве высокобюджетных фильмов?"
   ]
  },
  {
   "cell_type": "code",
   "execution_count": 28,
   "metadata": {
    "colab": {},
    "colab_type": "code",
    "id": "qQtmHKTFVp_k"
   },
   "outputs": [
    {
     "data": {
      "text/plain": [
       "{'1': 'Pirates of the Caribbean: On Stranger Tides (tt1298650)',\n",
       " '2': 'Gods and Generals (tt0279111)',\n",
       " '3': 'Winnie the Pooh (tt1449283)',\n",
       " '4': 110,\n",
       " '5': 107,\n",
       " '6': 'Avatar (tt0499549)',\n",
       " '7': 'The Lone Ranger (tt1210819)',\n",
       " '8': 1478,\n",
       " '9': 'The Dark Knight (tt0468569)',\n",
       " '10': 'The Lone Ranger (tt1210819)',\n",
       " '11': 'Drama',\n",
       " '12': 'Drama',\n",
       " '13': 'Peter Jackson',\n",
       " '14': 'Robert Rodriguez',\n",
       " '15': 'Chris Hemsworth',\n",
       " '16': 'Matt Damon'}"
      ]
     },
     "execution_count": 28,
     "metadata": {},
     "output_type": "execute_result"
    }
   ],
   "source": [
    "data_hi_budget=data[data['budget']>data['budget'].mean()]\n",
    "actors=List_set_split(data_hi_budget['cast'])\n",
    "\n",
    "how_manyT=[]\n",
    "\n",
    "for actor in actors:\n",
    "    how_manyT.append(len(data_hi_budget[data_hi_budget['cast'].str.contains(actor)]))\n",
    "    \n",
    "Actor_HMT=pd.DataFrame({'Actor':actors,'How many times has the actor starred':how_manyT})\n",
    "#Actor_HMT.sort_values(by='How many times has the actor starred',ascending=False)\n",
    "answers['16']=Actor_HMT['Actor'][Actor_HMT['How many times has the actor starred']==Actor_HMT['How many times has the actor starred'].max()].to_string(index=False).strip()\n",
    "answers"
   ]
  },
  {
   "cell_type": "markdown",
   "metadata": {
    "colab_type": "text",
    "id": "NIh6AaW5Vp_n"
   },
   "source": [
    "# 17. В фильмах какого жанра больше всего снимался Nicolas Cage? "
   ]
  },
  {
   "cell_type": "code",
   "execution_count": 29,
   "metadata": {
    "colab": {},
    "colab_type": "code",
    "id": "H74SJDIBVp_n"
   },
   "outputs": [
    {
     "data": {
      "text/plain": [
       "{'1': 'Pirates of the Caribbean: On Stranger Tides (tt1298650)',\n",
       " '2': 'Gods and Generals (tt0279111)',\n",
       " '3': 'Winnie the Pooh (tt1449283)',\n",
       " '4': 110,\n",
       " '5': 107,\n",
       " '6': 'Avatar (tt0499549)',\n",
       " '7': 'The Lone Ranger (tt1210819)',\n",
       " '8': 1478,\n",
       " '9': 'The Dark Knight (tt0468569)',\n",
       " '10': 'The Lone Ranger (tt1210819)',\n",
       " '11': 'Drama',\n",
       " '12': 'Drama',\n",
       " '13': 'Peter Jackson',\n",
       " '14': 'Robert Rodriguez',\n",
       " '15': 'Chris Hemsworth',\n",
       " '16': 'Matt Damon',\n",
       " '17': 'Action'}"
      ]
     },
     "execution_count": 29,
     "metadata": {},
     "output_type": "execute_result"
    }
   ],
   "source": [
    "data_starring_NC=data[data['cast'].str.contains('Nicolas Cage')]\n",
    "genres_list=List_set_split(data_starring_NC['genres'])\n",
    "\n",
    "genre_score=[]\n",
    "\n",
    "for genre in genres_list:\n",
    "    genre_score.append(len(data_starring_NC[data_starring_NC['genres'].str.contains(genre)]))\n",
    "    \n",
    "Genres_NC=pd.DataFrame({'Genres':genres_list,'How many times has Nicolas Cage starred':genre_score})\n",
    "answers['17']=Genres_NC['Genres'][Genres_NC['How many times has Nicolas Cage starred']==Genres_NC['How many times has Nicolas Cage starred'].max()].to_string(index=False).strip()\n",
    "answers"
   ]
  },
  {
   "cell_type": "markdown",
   "metadata": {
    "colab_type": "text",
    "id": "RqOmPRfWVp_q"
   },
   "source": [
    "# 18. Самый убыточный фильм от Paramount Pictures"
   ]
  },
  {
   "cell_type": "code",
   "execution_count": 30,
   "metadata": {
    "colab": {},
    "colab_type": "code",
    "id": "9E_B0Y96Vp_r"
   },
   "outputs": [
    {
     "name": "stderr",
     "output_type": "stream",
     "text": [
      "<ipython-input-30-7fea7aaa0fd7>:2: SettingWithCopyWarning: \n",
      "A value is trying to be set on a copy of a slice from a DataFrame.\n",
      "Try using .loc[row_indexer,col_indexer] = value instead\n",
      "\n",
      "See the caveats in the documentation: https://pandas.pydata.org/pandas-docs/stable/user_guide/indexing.html#returning-a-view-versus-a-copy\n",
      "  data_ParPic['profit']=data_ParPic['revenue']-data_ParPic['budget']\n"
     ]
    },
    {
     "data": {
      "text/plain": [
       "{'1': 'Pirates of the Caribbean: On Stranger Tides (tt1298650)',\n",
       " '2': 'Gods and Generals (tt0279111)',\n",
       " '3': 'Winnie the Pooh (tt1449283)',\n",
       " '4': 110,\n",
       " '5': 107,\n",
       " '6': 'Avatar (tt0499549)',\n",
       " '7': 'The Lone Ranger (tt1210819)',\n",
       " '8': 1478,\n",
       " '9': 'The Dark Knight (tt0468569)',\n",
       " '10': 'The Lone Ranger (tt1210819)',\n",
       " '11': 'Drama',\n",
       " '12': 'Drama',\n",
       " '13': 'Peter Jackson',\n",
       " '14': 'Robert Rodriguez',\n",
       " '15': 'Chris Hemsworth',\n",
       " '16': 'Matt Damon',\n",
       " '17': 'Action',\n",
       " '18': 'K-19: The Widowmaker (tt0267626)'}"
      ]
     },
     "execution_count": 30,
     "metadata": {},
     "output_type": "execute_result"
    }
   ],
   "source": [
    "data_ParPic=data[data['production_companies'].str.contains('Paramount Pictures')]\n",
    "data_ParPic['profit']=data_ParPic['revenue']-data_ParPic['budget']\n",
    "a=data_ParPic[data_ParPic['profit']==data_ParPic['profit'].min()]['original_title'].to_string(index=False).strip()\n",
    "b=data_ParPic[data_ParPic['profit']==data_ParPic['profit'].min()]['imdb_id'].to_string(index=False).strip()\n",
    "answers['18']=a+' ('+b+')'\n",
    "answers"
   ]
  },
  {
   "cell_type": "markdown",
   "metadata": {
    "colab_type": "text",
    "id": "vS8Ur6ddVp_u"
   },
   "source": [
    "# 19. Какой год стал самым успешным по суммарным кассовым сборам?"
   ]
  },
  {
   "cell_type": "code",
   "execution_count": 31,
   "metadata": {
    "colab": {},
    "colab_type": "code",
    "id": "Dnbt4GdIVp_v"
   },
   "outputs": [
    {
     "data": {
      "text/plain": [
       "{'1': 'Pirates of the Caribbean: On Stranger Tides (tt1298650)',\n",
       " '2': 'Gods and Generals (tt0279111)',\n",
       " '3': 'Winnie the Pooh (tt1449283)',\n",
       " '4': 110,\n",
       " '5': 107,\n",
       " '6': 'Avatar (tt0499549)',\n",
       " '7': 'The Lone Ranger (tt1210819)',\n",
       " '8': 1478,\n",
       " '9': 'The Dark Knight (tt0468569)',\n",
       " '10': 'The Lone Ranger (tt1210819)',\n",
       " '11': 'Drama',\n",
       " '12': 'Drama',\n",
       " '13': 'Peter Jackson',\n",
       " '14': 'Robert Rodriguez',\n",
       " '15': 'Chris Hemsworth',\n",
       " '16': 'Matt Damon',\n",
       " '17': 'Action',\n",
       " '18': 'K-19: The Widowmaker (tt0267626)',\n",
       " '19': '2015'}"
      ]
     },
     "execution_count": 31,
     "metadata": {},
     "output_type": "execute_result"
    }
   ],
   "source": [
    "R_Y_list=list(set(data['release_year']))\n",
    "\n",
    "Tot_rev_RY=[]\n",
    "\n",
    "for year in R_Y_list:\n",
    "    Tot_rev_RY.append(data[data['release_year']==year]['revenue'].sum())\n",
    "    \n",
    "Totalrevenues=pd.DataFrame({'Release year':R_Y_list,'Total revenue':Tot_rev_RY})\n",
    "#Totalrevenues.sort_values(by='Total revenue',ascending=False)\n",
    "answers['19']=Totalrevenues['Release year'][Totalrevenues['Total revenue']==Totalrevenues['Total revenue'].max()].to_string(index=False).strip()\n",
    "answers"
   ]
  },
  {
   "cell_type": "markdown",
   "metadata": {
    "colab_type": "text",
    "id": "JAzJh4QAVp_z"
   },
   "source": [
    "# 20. Какой самый прибыльный год для студии Warner Bros?"
   ]
  },
  {
   "cell_type": "code",
   "execution_count": 32,
   "metadata": {
    "colab": {},
    "colab_type": "code",
    "id": "wgVu02DEVp_0"
   },
   "outputs": [
    {
     "data": {
      "text/plain": [
       "{'1': 'Pirates of the Caribbean: On Stranger Tides (tt1298650)',\n",
       " '2': 'Gods and Generals (tt0279111)',\n",
       " '3': 'Winnie the Pooh (tt1449283)',\n",
       " '4': 110,\n",
       " '5': 107,\n",
       " '6': 'Avatar (tt0499549)',\n",
       " '7': 'The Lone Ranger (tt1210819)',\n",
       " '8': 1478,\n",
       " '9': 'The Dark Knight (tt0468569)',\n",
       " '10': 'The Lone Ranger (tt1210819)',\n",
       " '11': 'Drama',\n",
       " '12': 'Drama',\n",
       " '13': 'Peter Jackson',\n",
       " '14': 'Robert Rodriguez',\n",
       " '15': 'Chris Hemsworth',\n",
       " '16': 'Matt Damon',\n",
       " '17': 'Action',\n",
       " '18': 'K-19: The Widowmaker (tt0267626)',\n",
       " '19': '2015',\n",
       " '20': '2014'}"
      ]
     },
     "execution_count": 32,
     "metadata": {},
     "output_type": "execute_result"
    }
   ],
   "source": [
    "dataWB=data[data['production_companies'].str.contains('Warner Bros')]\n",
    "\n",
    "R_Y_list=list(set(dataWB['release_year']))\n",
    "\n",
    "Tot_rev_RY=[]\n",
    "Tot_budget_RY=[]\n",
    "Tot_profit_RY=[]\n",
    "\n",
    "for year in R_Y_list:\n",
    "    Tot_rev_RY.append(dataWB[dataWB['release_year']==year]['revenue'].sum())\n",
    "    Tot_budget_RY.append(dataWB[dataWB['release_year']==year]['budget'].sum())\n",
    "    Tot_profit_RY.append(dataWB[dataWB['release_year']==year]['revenue'].sum()-dataWB[dataWB['release_year']==year]['budget'].sum())\n",
    "    \n",
    "Totalfinances=pd.DataFrame({'Release year':R_Y_list,'Total revenue':Tot_rev_RY,'Total budget':Tot_budget_RY,'Total profit':Tot_profit_RY})\n",
    "#Totalfinances.sort_values(by='Total profit',ascending=False)\n",
    "answers['20']=Totalfinances['Release year'][Totalfinances['Total profit']==Totalfinances['Total profit'].max()].to_string(index=False).strip()\n",
    "answers"
   ]
  },
  {
   "cell_type": "markdown",
   "metadata": {
    "colab_type": "text",
    "id": "8Im1S2HRVp_4"
   },
   "source": [
    "# 21. В каком месяце за все годы суммарно вышло больше всего фильмов?"
   ]
  },
  {
   "cell_type": "code",
   "execution_count": 33,
   "metadata": {
    "colab": {},
    "colab_type": "code",
    "id": "lev6TH7gVp_4"
   },
   "outputs": [
    {
     "data": {
      "text/plain": [
       "{'1': 'Pirates of the Caribbean: On Stranger Tides (tt1298650)',\n",
       " '2': 'Gods and Generals (tt0279111)',\n",
       " '3': 'Winnie the Pooh (tt1449283)',\n",
       " '4': 110,\n",
       " '5': 107,\n",
       " '6': 'Avatar (tt0499549)',\n",
       " '7': 'The Lone Ranger (tt1210819)',\n",
       " '8': 1478,\n",
       " '9': 'The Dark Knight (tt0468569)',\n",
       " '10': 'The Lone Ranger (tt1210819)',\n",
       " '11': 'Drama',\n",
       " '12': 'Drama',\n",
       " '13': 'Peter Jackson',\n",
       " '14': 'Robert Rodriguez',\n",
       " '15': 'Chris Hemsworth',\n",
       " '16': 'Matt Damon',\n",
       " '17': 'Action',\n",
       " '18': 'K-19: The Widowmaker (tt0267626)',\n",
       " '19': '2015',\n",
       " '20': '2014',\n",
       " '21': 'Сентябрь'}"
      ]
     },
     "execution_count": 33,
     "metadata": {},
     "output_type": "execute_result"
    }
   ],
   "source": [
    "month_list=[]\n",
    "\n",
    "for rel_da in range(len(data)):\n",
    "    month_list.append(data.loc[rel_da,'release_date'].strftime('%B'))\n",
    "MonthList=list(set(month_list))\n",
    "data['release_month']=month_list\n",
    "\n",
    "num_muvies=[]\n",
    "\n",
    "for Month in MonthList:\n",
    "    num_muvies.append(len(data[data['release_month']==Month]))\n",
    "\n",
    "MoviesMonth=pd.DataFrame({'Release_Month':MonthList,'Number of movies per month':num_muvies})\n",
    "answers['21']=MoviesMonth['Release_Month'][MoviesMonth['Number of movies per month']==MoviesMonth['Number of movies per month'].max()].to_string(index=False).strip()\n",
    "answers"
   ]
  },
  {
   "cell_type": "markdown",
   "metadata": {
    "colab_type": "text",
    "id": "uAJsZ_NeVp_7"
   },
   "source": [
    "# 22. Сколько суммарно вышло фильмов летом? (за июнь, июль, август)"
   ]
  },
  {
   "cell_type": "code",
   "execution_count": 34,
   "metadata": {
    "colab": {},
    "colab_type": "code",
    "id": "Aa-hEREoVp_8"
   },
   "outputs": [
    {
     "data": {
      "text/plain": [
       "{'1': 'Pirates of the Caribbean: On Stranger Tides (tt1298650)',\n",
       " '2': 'Gods and Generals (tt0279111)',\n",
       " '3': 'Winnie the Pooh (tt1449283)',\n",
       " '4': 110,\n",
       " '5': 107,\n",
       " '6': 'Avatar (tt0499549)',\n",
       " '7': 'The Lone Ranger (tt1210819)',\n",
       " '8': 1478,\n",
       " '9': 'The Dark Knight (tt0468569)',\n",
       " '10': 'The Lone Ranger (tt1210819)',\n",
       " '11': 'Drama',\n",
       " '12': 'Drama',\n",
       " '13': 'Peter Jackson',\n",
       " '14': 'Robert Rodriguez',\n",
       " '15': 'Chris Hemsworth',\n",
       " '16': 'Matt Damon',\n",
       " '17': 'Action',\n",
       " '18': 'K-19: The Widowmaker (tt0267626)',\n",
       " '19': '2015',\n",
       " '20': '2014',\n",
       " '21': 'Сентябрь',\n",
       " '22': 450}"
      ]
     },
     "execution_count": 34,
     "metadata": {},
     "output_type": "execute_result"
    }
   ],
   "source": [
    "answers['22']=MoviesMonth[MoviesMonth['Release_Month'].isin(['Июнь','Июль','Август'])]['Number of movies per month'].sum()\n",
    "answers"
   ]
  },
  {
   "cell_type": "markdown",
   "metadata": {
    "colab_type": "text",
    "id": "G94ppOY1VqAA"
   },
   "source": [
    "# 23. Для какого режиссера зима – самое продуктивное время года? "
   ]
  },
  {
   "cell_type": "code",
   "execution_count": 35,
   "metadata": {
    "colab": {},
    "colab_type": "code",
    "id": "RhNTsamuVqAB"
   },
   "outputs": [
    {
     "data": {
      "text/plain": [
       "{'1': 'Pirates of the Caribbean: On Stranger Tides (tt1298650)',\n",
       " '2': 'Gods and Generals (tt0279111)',\n",
       " '3': 'Winnie the Pooh (tt1449283)',\n",
       " '4': 110,\n",
       " '5': 107,\n",
       " '6': 'Avatar (tt0499549)',\n",
       " '7': 'The Lone Ranger (tt1210819)',\n",
       " '8': 1478,\n",
       " '9': 'The Dark Knight (tt0468569)',\n",
       " '10': 'The Lone Ranger (tt1210819)',\n",
       " '11': 'Drama',\n",
       " '12': 'Drama',\n",
       " '13': 'Peter Jackson',\n",
       " '14': 'Robert Rodriguez',\n",
       " '15': 'Chris Hemsworth',\n",
       " '16': 'Matt Damon',\n",
       " '17': 'Action',\n",
       " '18': 'K-19: The Widowmaker (tt0267626)',\n",
       " '19': '2015',\n",
       " '20': '2014',\n",
       " '21': 'Сентябрь',\n",
       " '22': 450,\n",
       " '23': 'Peter Jackson'}"
      ]
     },
     "execution_count": 35,
     "metadata": {},
     "output_type": "execute_result"
    }
   ],
   "source": [
    "data_winter=data[data['release_month'].isin(['Декабрь','Январь','Февраль'])]\n",
    "dirscorewinter=[]\n",
    "\n",
    "for director in Dirs:\n",
    "    dirscorewinter.append(len(data_winter[data_winter['director'].str.contains(director)]))\n",
    "    \n",
    "WinterDirectors=pd.DataFrame({'Director':Dirs,'Number of winter releases':dirscorewinter})\n",
    "#WinterDirectors.sort_values(by='Number of winter releases',ascending=False)\n",
    "answers['23']=WinterDirectors['Director'][WinterDirectors['Number of winter releases']==WinterDirectors['Number of winter releases'].max()].to_string(index=False).strip()\n",
    "answers"
   ]
  },
  {
   "cell_type": "markdown",
   "metadata": {
    "colab_type": "text",
    "id": "RBo0JVjVVqAF"
   },
   "source": [
    "# 24. Какая студия дает самые длинные названия своим фильмам по количеству символов?"
   ]
  },
  {
   "cell_type": "code",
   "execution_count": 36,
   "metadata": {
    "colab": {},
    "colab_type": "code",
    "id": "QRGS8L0iVqAG"
   },
   "outputs": [
    {
     "data": {
      "text/plain": [
       "{'1': 'Pirates of the Caribbean: On Stranger Tides (tt1298650)',\n",
       " '2': 'Gods and Generals (tt0279111)',\n",
       " '3': 'Winnie the Pooh (tt1449283)',\n",
       " '4': 110,\n",
       " '5': 107,\n",
       " '6': 'Avatar (tt0499549)',\n",
       " '7': 'The Lone Ranger (tt1210819)',\n",
       " '8': 1478,\n",
       " '9': 'The Dark Knight (tt0468569)',\n",
       " '10': 'The Lone Ranger (tt1210819)',\n",
       " '11': 'Drama',\n",
       " '12': 'Drama',\n",
       " '13': 'Peter Jackson',\n",
       " '14': 'Robert Rodriguez',\n",
       " '15': 'Chris Hemsworth',\n",
       " '16': 'Matt Damon',\n",
       " '17': 'Action',\n",
       " '18': 'K-19: The Widowmaker (tt0267626)',\n",
       " '19': '2015',\n",
       " '20': '2014',\n",
       " '21': 'Сентябрь',\n",
       " '22': 450,\n",
       " '23': 'Peter Jackson',\n",
       " '24': 'Four By Two Productions'}"
      ]
     },
     "execution_count": 36,
     "metadata": {},
     "output_type": "execute_result"
    }
   ],
   "source": [
    "data24=data.copy()\n",
    "data24['production_companies']=data24['production_companies'].str.split('|')\n",
    "data24_1=data24.explode('production_companies')\n",
    "data24_1['original_title']=data24_1['original_title'].apply(lambda x:len(x))\n",
    "aver_length=[]\n",
    "\n",
    "for company in list(data24_1['production_companies'].unique()):\n",
    "    aver_length.append(data24_1[data24_1['production_companies']==company]['original_title'].mean())\n",
    "\n",
    "Title_length=pd.DataFrame({'Company':list(data24_1['production_companies'].unique()),'Average title length':aver_length})\n",
    "answers['24']=Title_length['Company'][Title_length['Average title length']==Title_length['Average title length'].max()].to_string(index=False).strip()\n",
    "answers"
   ]
  },
  {
   "cell_type": "markdown",
   "metadata": {
    "colab_type": "text",
    "id": "9G0hbvR7VqAK"
   },
   "source": [
    "# 25. Описание фильмов какой студии в среднем самые длинные по количеству слов?"
   ]
  },
  {
   "cell_type": "code",
   "execution_count": 37,
   "metadata": {
    "colab": {},
    "colab_type": "code",
    "id": "Ge2GsLNxVqAK"
   },
   "outputs": [
    {
     "data": {
      "text/plain": [
       "{'1': 'Pirates of the Caribbean: On Stranger Tides (tt1298650)',\n",
       " '2': 'Gods and Generals (tt0279111)',\n",
       " '3': 'Winnie the Pooh (tt1449283)',\n",
       " '4': 110,\n",
       " '5': 107,\n",
       " '6': 'Avatar (tt0499549)',\n",
       " '7': 'The Lone Ranger (tt1210819)',\n",
       " '8': 1478,\n",
       " '9': 'The Dark Knight (tt0468569)',\n",
       " '10': 'The Lone Ranger (tt1210819)',\n",
       " '11': 'Drama',\n",
       " '12': 'Drama',\n",
       " '13': 'Peter Jackson',\n",
       " '14': 'Robert Rodriguez',\n",
       " '15': 'Chris Hemsworth',\n",
       " '16': 'Matt Damon',\n",
       " '17': 'Action',\n",
       " '18': 'K-19: The Widowmaker (tt0267626)',\n",
       " '19': '2015',\n",
       " '20': '2014',\n",
       " '21': 'Сентябрь',\n",
       " '22': 450,\n",
       " '23': 'Peter Jackson',\n",
       " '24': 'Four By Two Productions',\n",
       " '25': 'Midnight Picture Show'}"
      ]
     },
     "execution_count": 37,
     "metadata": {},
     "output_type": "execute_result"
    }
   ],
   "source": [
    "data25_1=data24.explode('production_companies')\n",
    "aver_lenword=[]\n",
    "\n",
    "for company in list(data25_1['production_companies'].unique()):\n",
    "    aver_lenword.append(data25_1[data25_1['production_companies']==company]['overview'].str.split(' ').apply(lambda x:len(x)).mean())\n",
    "\n",
    "OView_length=pd.DataFrame({'Company':list(data25_1['production_companies'].unique()),'Overview word number':aver_lenword})\n",
    "#OView_length.nlargest(20,'Overview word number')\n",
    "answers['25']=OView_length['Company'][OView_length['Overview word number']==OView_length['Overview word number'].max()].to_string(index=False).strip()\n",
    "answers"
   ]
  },
  {
   "cell_type": "markdown",
   "metadata": {
    "colab_type": "text",
    "id": "FJ1AFt90VqAP"
   },
   "source": [
    "# 26. Какие фильмы входят в 1 процент лучших по рейтингу? \n",
    "по vote_average"
   ]
  },
  {
   "cell_type": "code",
   "execution_count": 38,
   "metadata": {
    "colab": {},
    "colab_type": "code",
    "id": "8qmJVq4CVqAQ"
   },
   "outputs": [
    {
     "data": {
      "text/plain": [
       "9                                          Inside Out\n",
       "34                                               Room\n",
       "118                                      Interstellar\n",
       "119                           Guardians of the Galaxy\n",
       "125                                The Imitation Game\n",
       "128                                         Gone Girl\n",
       "138                          The Grand Budapest Hotel\n",
       "370                                         Inception\n",
       "599                                   The Dark Knight\n",
       "872                                       The Pianist\n",
       "1081    The Lord of the Rings: The Return of the King\n",
       "1183                          The Wolf of Wall Street\n",
       "1191                                 12 Years a Slave\n",
       "1800                                          Memento\n",
       "Name: original_title, dtype: object"
      ]
     },
     "execution_count": 38,
     "metadata": {},
     "output_type": "execute_result"
    }
   ],
   "source": [
    "answers['26']='Inside Out, The Dark Knight, 12 Years a Slave'\n",
    "data[data['vote_average']>np.percentile(list(data['vote_average']),99)]['original_title']"
   ]
  },
  {
   "cell_type": "markdown",
   "metadata": {
    "colab_type": "text",
    "id": "MdXsUXbCVqAV"
   },
   "source": [
    "# 27. Какие актеры чаще всего снимаются в одном фильме вместе?\n"
   ]
  },
  {
   "cell_type": "code",
   "execution_count": 39,
   "metadata": {},
   "outputs": [
    {
     "data": {
      "text/plain": [
       "[(('Daniel Radcliffe', 'Rupert Grint'), 8),\n",
       " (('Daniel Radcliffe', 'Emma Watson'), 8),\n",
       " (('Rupert Grint', 'Daniel Radcliffe'), 8),\n",
       " (('Rupert Grint', 'Emma Watson'), 8),\n",
       " (('Emma Watson', 'Daniel Radcliffe'), 8),\n",
       " (('Emma Watson', 'Rupert Grint'), 8),\n",
       " (('Ben Stiller', 'Owen Wilson'), 6),\n",
       " (('Owen Wilson', 'Ben Stiller'), 6)]"
      ]
     },
     "execution_count": 39,
     "metadata": {},
     "output_type": "execute_result"
    }
   ],
   "source": [
    "data27=data.copy()\n",
    "data27['cast']=data27['cast'].str.split('|')\n",
    "pairs_lst=[]\n",
    "\n",
    "for x in range(len(data27)):\n",
    "    pairs_lst.extend(list(itt.permutations(data27.loc[x,'cast'],2)))\n",
    "    \n",
    "collections.Counter(pairs_lst).most_common(8)"
   ]
  },
  {
   "cell_type": "code",
   "execution_count": 42,
   "metadata": {},
   "outputs": [],
   "source": [
    "answers['27']='Daniel Radcliffe & Rupert Grint'"
   ]
  },
  {
   "cell_type": "markdown",
   "metadata": {
    "colab_type": "text",
    "id": "4ymnxEVoVqAW"
   },
   "source": [
    "ВАРИАНТ 2 - Daniel Radcliffe & Emma Watson"
   ]
  },
  {
   "cell_type": "markdown",
   "metadata": {},
   "source": [
    "ВАРИАНТ 3 - Rupert Grint & Emma Watson"
   ]
  },
  {
   "cell_type": "markdown",
   "metadata": {
    "colab_type": "text",
    "id": "U0nONFnGVqAX"
   },
   "source": [
    "# Submission"
   ]
  },
  {
   "cell_type": "code",
   "execution_count": 43,
   "metadata": {
    "colab": {},
    "colab_type": "code",
    "id": "IfcaRO9-VqAX",
    "outputId": "0f132912-32bb-4196-c98c-abfbc4ad5a5f"
   },
   "outputs": [
    {
     "data": {
      "text/plain": [
       "{'1': 'Pirates of the Caribbean: On Stranger Tides (tt1298650)',\n",
       " '2': 'Gods and Generals (tt0279111)',\n",
       " '3': 'Winnie the Pooh (tt1449283)',\n",
       " '4': 110,\n",
       " '5': 107,\n",
       " '6': 'Avatar (tt0499549)',\n",
       " '7': 'The Lone Ranger (tt1210819)',\n",
       " '8': 1478,\n",
       " '9': 'The Dark Knight (tt0468569)',\n",
       " '10': 'The Lone Ranger (tt1210819)',\n",
       " '11': 'Drama',\n",
       " '12': 'Drama',\n",
       " '13': 'Peter Jackson',\n",
       " '14': 'Robert Rodriguez',\n",
       " '15': 'Chris Hemsworth',\n",
       " '16': 'Matt Damon',\n",
       " '17': 'Action',\n",
       " '18': 'K-19: The Widowmaker (tt0267626)',\n",
       " '19': '2015',\n",
       " '20': '2014',\n",
       " '21': 'Сентябрь',\n",
       " '22': 450,\n",
       " '23': 'Peter Jackson',\n",
       " '24': 'Four By Two Productions',\n",
       " '25': 'Midnight Picture Show',\n",
       " '26': 'Inside Out, The Dark Knight, 12 Years a Slave',\n",
       " '27': 'Daniel Radcliffe & Rupert Grint'}"
      ]
     },
     "execution_count": 43,
     "metadata": {},
     "output_type": "execute_result"
    }
   ],
   "source": [
    "# в конце можно посмотреть свои ответы к каждому вопросу\n",
    "answers"
   ]
  },
  {
   "cell_type": "code",
   "execution_count": 44,
   "metadata": {
    "colab": {},
    "colab_type": "code",
    "id": "SiRmHPl8VqAd"
   },
   "outputs": [
    {
     "data": {
      "text/plain": [
       "27"
      ]
     },
     "execution_count": 44,
     "metadata": {},
     "output_type": "execute_result"
    }
   ],
   "source": [
    "# и убедиться что ни чего не пропустил)\n",
    "len(answers)"
   ]
  }
 ],
 "metadata": {
  "colab": {
   "name": "Copy of [SF-DST] Movies IMBD v4.1 TEMPLATE.ipynb",
   "provenance": []
  },
  "kernelspec": {
   "display_name": "Python 3",
   "language": "python",
   "name": "python3"
  },
  "language_info": {
   "codemirror_mode": {
    "name": "ipython",
    "version": 3
   },
   "file_extension": ".py",
   "mimetype": "text/x-python",
   "name": "python",
   "nbconvert_exporter": "python",
   "pygments_lexer": "ipython3",
   "version": "3.8.5"
  }
 },
 "nbformat": 4,
 "nbformat_minor": 1
}
